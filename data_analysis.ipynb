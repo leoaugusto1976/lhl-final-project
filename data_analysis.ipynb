{
 "cells": [
  {
   "cell_type": "code",
   "execution_count": 240,
   "metadata": {},
   "outputs": [],
   "source": [
    "import os\n",
    "from bs4 import BeautifulSoup\n",
    "import pandas as pd\n",
    "from sqlalchemy import create_engine\n",
    "import psycopg2\n",
    "\n",
    "# PostgreSQL connection parameters\n",
    "db_username = '<USERNAME>'\n",
    "db_password = '<PASSWORD>'\n",
    "db_host = '<HOST>'\n",
    "db_port = '<PORT>'\n",
    "db_name = '<DATABASE NAME>'\n",
    "# Construct the connection string\n",
    "connection_string = f\"dbname={db_name} user={db_username} password={db_password} host={db_host} port={db_port}\"\n",
    "\n",
    "# Create a SQLAlchemy engine\n",
    "engine = create_engine(f'postgresql://{db_username}:{db_password}@{db_host}:{db_port}/{db_name}')\n",
    "\n",
    "# Directory where your HTML files are stored\n",
    "directory = r'\\pages'"
   ]
  },
  {
   "cell_type": "markdown",
   "metadata": {},
   "source": [
    "### Funtions"
   ]
  },
  {
   "cell_type": "code",
   "execution_count": 241,
   "metadata": {},
   "outputs": [],
   "source": [
    "##############################################################################################################\n",
    "# This function will parse the concatenated attribute from Attack stats and split it into three columns      #\n",
    "##############################################################################################################\n",
    "\n",
    "def split_and_convert_column(df, column_name):\n",
    "    pattern = r'(\\d+)/(\\d+) \\((\\d+)%\\)'\n",
    "\n",
    "    # Replace 0 with \"0/0 (0%)\"\n",
    "    df[column_name] = df[column_name].apply(lambda x: \"0/0 (0%)\" if x == \"0\" else x)\n",
    "    \n",
    "    # Splitting the column into three separate columns\n",
    "    df[[f'{column_name} Success', f'{column_name} Total', f'{column_name} Percentage']] = df[column_name].str.extract(pattern)\n",
    "\n",
    "    # Convert columns to numeric values if needed\n",
    "    df[f'{column_name} Success'] = pd.to_numeric(df[f'{column_name} Success'])\n",
    "    df[f'{column_name} Total'] = pd.to_numeric(df[f'{column_name} Total'])\n",
    "    df[f'{column_name} Percentage'] = pd.to_numeric(df[f'{column_name} Percentage'].str.rstrip('%')) / 100\n",
    "\n",
    "    return df"
   ]
  },
  {
   "cell_type": "code",
   "execution_count": null,
   "metadata": {},
   "outputs": [],
   "source": [
    "##############################################################################################################\n",
    "# This function will clean the data                                                                          #\n",
    "##############################################################################################################\n",
    "\n",
    "def cleaning_data(df):\n",
    "    # Remove goalkeepers\n",
    "    df = df[df['Id'] != -1]\n",
    "\n",
    "    # Convert gameDate column to datetime\n",
    "    df['gameDate'] = pd.to_datetime(df['gameDate'])\n",
    "\n",
    "    # Check if exists NaN values in the DataFrame\n",
    "    nan_columns = df.isna().any()\n",
    "\n",
    "    # Display columns with NaN values\n",
    "    columns_with_nan = nan_columns[nan_columns].index.tolist()\n",
    "    print(\"Columns with NaN values:\", columns_with_nan)\n",
    "\n",
    "    # Fill NaN or None values with 0 for the identified columns\n",
    "    df[columns_with_nan] = df[columns_with_nan].fillna(0)\n",
    "\n",
    "    return df"
   ]
  },
  {
   "cell_type": "code",
   "execution_count": null,
   "metadata": {},
   "outputs": [],
   "source": [
    "##############################################################################################################\n",
    "# This function will execute the Random Forest Classifier and return the results in a DataFrame              #\n",
    "##############################################################################################################\n",
    "\n",
    "from sklearn.metrics import accuracy_score, classification_report\n",
    "from sklearn.ensemble import RandomForestClassifier\n",
    "from sklearn.model_selection import train_test_split\n",
    "\n",
    "def random_forest_evaluation(df_random, X, y):\n",
    "\n",
    "    # Encode categorical variables if needed\n",
    "    X = pd.get_dummies(X)\n",
    "\n",
    "    # Split the data into training and testing sets\n",
    "    X_train, X_test, y_train, y_test = train_test_split(X, y, test_size=0.2, random_state=42)\n",
    "\n",
    "    # Initialize RandomForestClassifier\n",
    "    rf_classifier = RandomForestClassifier(n_estimators=100, random_state=42)\n",
    "\n",
    "    # Train the model\n",
    "    rf_classifier.fit(X_train, y_train)\n",
    "\n",
    "    # Predict on the test set\n",
    "    predictions = rf_classifier.predict(X_test)\n",
    "\n",
    "    # Evaluate model performance\n",
    "    accuracy = accuracy_score(y_test, predictions)\n",
    "    print(\"Accuracy: \" + str(accuracy))\n",
    "    classification_rep = classification_report(y_test, predictions)\n",
    "    # print(classification_rep)\n",
    "\n",
    "    # Create a dictionary to store unique player predictions\n",
    "    unique_predictions = {}\n",
    "\n",
    "    # Populate the dictionary with unique player predictions\n",
    "    for i, player_idx in enumerate(y_test.index):\n",
    "        player_name = df_random.loc[player_idx, 'Player Name']  # Assuming 'Player' is the column name containing player names\n",
    "        unique_predictions[player_name] = predictions[i]\n",
    "\n",
    "    # Create a DataFrame to display unique player predictions\n",
    "    result_df = pd.DataFrame(list(unique_predictions.items()), columns=['Player Name', 'Predicted'])\n",
    "    # Sort the DataFrame by the 'Predicted' column in descending order\n",
    "    sorted_results_desc = result_df.sort_values(by='Predicted', ascending=True)\n",
    "\n",
    "    return sorted_results_desc"
   ]
  },
  {
   "cell_type": "code",
   "execution_count": 242,
   "metadata": {},
   "outputs": [
    {
     "name": "stdout",
     "output_type": "stream",
     "text": [
      "['N. Ingham', 'Y. Fillion', 'Marco Carducci', 'Triston Henry', 'E. Gazdov', 'Callum Irving', 'R. Yesli', 'Niko Giantsopoulos', 'Sean Melvin', 'C. Kalongo', 'K. Baskett', 'E. Himaras', 'J. Zielinski', 'Darlington Murasiranwa', 'Yann-Alexandre Fillion', 'Nathan Ingham']\n",
      "3533\n"
     ]
    }
   ],
   "source": [
    "##############################################################################################################\n",
    "# This function will extract the players and their stats from the HTML content, save to the database and     #\n",
    "# return the results in a DataFrame                                                                          #\n",
    "##############################################################################################################\n",
    "\n",
    "goalkeepers = []\n",
    "header_info = list()\n",
    "\n",
    "# Function to extract players and their stats from HTML content\n",
    "def extract_players_stats(html_content, gameDate):\n",
    "    soup = BeautifulSoup(html_content, 'html.parser')\n",
    "\n",
    "    # Extract header information\n",
    "    header_columns = soup.find('thead').find('tr', class_=lambda x: x and 'HeaderRow' in x)\n",
    "    \n",
    "    header_info = [th.text for th in header_columns.find_all('th', class_=lambda x: x and 'HeaderCell' in x)]\n",
    "    header_info.append('Id')\n",
    "    header_info.append('Player Name')\n",
    "    header_info.append('Position')\n",
    "    header_info.append('Team')\n",
    "    header_info.append('gameDate')\n",
    "\n",
    "    # Extract information for all players\n",
    "    all_players_info = []\n",
    "\n",
    "    df_players = pd.read_csv(r'csv_files/Players.csv')\n",
    "    # Find all <tr> elements containing player information\n",
    "    player_rows = soup.find_all('tr', class_=lambda x: x and 'TableRowStyled' in x)\n",
    "\n",
    "    for row in player_rows:\n",
    "        player_info = {}\n",
    "        stats = [span.text for span in row.find_all('td', class_=lambda x: x and 'TableCell' in x)]\n",
    "\n",
    "        result = df_players[(df_players['Name'] == stats[0]) | (df_players['Fotmob Name'] == stats[0]) | (df_players['Encode Name'] == stats[0])]\n",
    "        if not result.empty and 'Id' in result.columns:\n",
    "            stats.append(result['Id'].iloc[0])\n",
    "            stats.append(result['Fotmob Name'].iloc[0])\n",
    "            stats.append(result['Position'].iloc[0])\n",
    "            stats.append(result['Team'].iloc[0])\n",
    "        else:\n",
    "            if stats[0] not in goalkeepers:\n",
    "                goalkeepers.append(stats[0])\n",
    "            stats.append(-1)\n",
    "            stats.append(stats[0])\n",
    "            stats.append('Goalkeeper')\n",
    "            stats.append('N/A')\n",
    "        \n",
    "        # append gameDate\n",
    "        stats.append(gameDate)\n",
    "\n",
    "        player_info['Stats'] = stats\n",
    "\n",
    "        # Append player's information to the list\n",
    "        all_players_info.append(player_info)\n",
    "\n",
    "    # Create DataFrame\n",
    "    df = pd.DataFrame([entry['Stats'] for entry in all_players_info if 'Stats' in entry], columns=header_info)\n",
    "    # df.to_csv(r'csv_files/' + fileNameCsv, index=False)\n",
    "\n",
    "    df = split_and_convert_column(df, 'Shots on target')\n",
    "    df = split_and_convert_column(df, 'Successful dribbles')\n",
    "    \n",
    "    # Save the DataFrame to the PostgreSQL database\n",
    "    df.to_sql('attack', engine, if_exists='append', index=False, method='multi', chunksize=500)\n",
    "    \n",
    "    return all_players_info"
   ]
  },
  {
   "cell_type": "markdown",
   "metadata": {},
   "source": [
    "### Execution"
   ]
  },
  {
   "cell_type": "code",
   "execution_count": 243,
   "metadata": {},
   "outputs": [],
   "source": [
    "# Open the folder containing HTML files, loop through each file and extract players and their stats and save to the database\n",
    "\n",
    "dataset = list()\n",
    "# Loop through each HTML file in the directory\n",
    "for filename in os.listdir(directory):\n",
    "    if filename.endswith('.html'):\n",
    "        file_path = os.path.join(directory, filename)\n",
    "        \n",
    "        # Read HTML content from file\n",
    "        with open(file_path, 'r', encoding='utf-8') as file:\n",
    "            html_content = file.read()\n",
    "\n",
    "        # print(f\"File: {filename}\")\n",
    "\n",
    "        fileNameCsv = filename.replace('.html', '.csv')\n",
    "        # Extract players and their stats from HTML content\n",
    "        players_stats = extract_players_stats(html_content, fileNameCsv[:10])\n",
    "\n",
    "        dataset.extend(players_stats)\n",
    "\n",
    "if len(goalkeepers) > 0:\n",
    "    print(goalkeepers)\n",
    "\n",
    "print(len(dataset))"
   ]
  },
  {
   "cell_type": "markdown",
   "metadata": {},
   "source": [
    "### Queries to verify the consistency of data"
   ]
  },
  {
   "cell_type": "code",
   "execution_count": null,
   "metadata": {},
   "outputs": [],
   "source": [
    "'''\n",
    "\n",
    "-- Query to verify if the Player Name had more than one name. If so, I inserted an unique name in the \"Player Name\" column\n",
    "select * from attack where attack.\"Player\" like '%Rosario%'\n",
    "\n",
    "-- Query to verify the monthly rank\n",
    "select distinct(attack.\"Player Name\"), attack.\"Team\", attack.\"Position\", attack.\"Ranking\", attack.\"Final Ranking\"\n",
    "from attack \n",
    "where EXTRACT(MONTH FROM attack.\"gameDate\"::date) = 5\n",
    "order by attack.\"Ranking\";\n",
    "\n",
    "-- Query to verify the season rank\n",
    "select distinct(attack.\"Player Name\"), attack.\"Team\", attack.\"Position\", attack.\"Final Ranking\"\n",
    "from attack \n",
    "order by attack.\"Final Ranking\";\n",
    "\n",
    "\n",
    "-- Checking if there are any null values in the Ranking column\n",
    "SELECT count(*) FROM attack where attack.\"Ranking\" is not null\n",
    "\n",
    "-- Checking the players have more than five goals on the season\n",
    "select * from attack where attack.\"Id\" in(\n",
    "\t\t\t\t\t\tSELECT \n",
    "                        attack.\"Id\"\n",
    "                        FROM attack \n",
    "                        WHERE attack.\"Position\" = 'Forward' or attack.\"Position\" = 'Midfielder'\n",
    "                        group by  \n",
    "                        attack.\"Id\"\n",
    "                        having sum(CAST(attack.\"Goals\" as numeric)) >= 5)\n",
    "\n",
    "                        \n",
    "-- Checking if there is no name duplicated in the Player Name column\n",
    "SELECT attack.\"Id\"\n",
    "FROM attack\n",
    "GROUP BY attack.\"Id\"\n",
    "HAVING COUNT(DISTINCT attack.\"Player Name\") > 1;\n",
    "\n",
    "\n",
    "'''"
   ]
  },
  {
   "cell_type": "markdown",
   "metadata": {},
   "source": [
    "### Cleaning before running Random Forest Classifier"
   ]
  },
  {
   "cell_type": "code",
   "execution_count": 244,
   "metadata": {},
   "outputs": [
    {
     "name": "stdout",
     "output_type": "stream",
     "text": [
      "Columns with NaN values: ['Big chances missed', 'Offsides', 'Touches', 'Ranking']\n"
     ]
    },
    {
     "name": "stderr",
     "output_type": "stream",
     "text": [
      "C:\\Users\\leoau\\AppData\\Local\\Temp\\ipykernel_9548\\1759354406.py:9: UserWarning: pandas only supports SQLAlchemy connectable (engine/connection) or database string URI or sqlite3 DBAPI2 connection. Other DBAPI2 objects are not tested. Please consider using SQLAlchemy.\n",
      "  df1 = pd.read_sql_query('''\n"
     ]
    }
   ],
   "source": [
    "# Connect to the PostgreSQL database\n",
    "conn = psycopg2.connect(connection_string)\n",
    "\n",
    "# Execute the query and fetch the results into a Pandas DataFrame\n",
    "df1 = pd.read_sql_query('''\n",
    "                        SELECT \n",
    "                        attack.\"Id\", \n",
    "                        attack.\"gameDate\", \n",
    "                        attack.\"Player Name\", \n",
    "                        attack.\"Goals\", \n",
    "                        attack.\"Total shots\", \n",
    "                        attack.\"Shots on target Success\", \n",
    "                        attack.\"Shots on target Total\", \n",
    "                        attack.\"Shots on target Percentage\",\n",
    "                        attack.\"Successful dribbles Success\", \n",
    "                        attack.\"Successful dribbles Total\", \n",
    "                        attack.\"Successful dribbles Percentage\",\n",
    "                        attack.\"Big chances missed\", \n",
    "                        attack.\"Offsides\", \n",
    "                        attack.\"Dispossessed\", \n",
    "                        attack.\"Touches\",\n",
    "                        attack.\"Ranking\"\n",
    "                        FROM attack \n",
    "                        WHERE attack.\"Position\" = 'Forward' or attack.\"Position\" = 'Midfielder'\n",
    "                        group by  \n",
    "                        attack.\"Id\", \n",
    "                        attack.\"gameDate\", \n",
    "                        attack.\"Player Name\", \n",
    "                        attack.\"Goals\", \n",
    "                        attack.\"Total shots\", \n",
    "                        attack.\"Shots on target Success\", \n",
    "                        attack.\"Shots on target Total\", \n",
    "                        attack.\"Shots on target Percentage\",\n",
    "                        attack.\"Successful dribbles Success\", \n",
    "                        attack.\"Successful dribbles Total\", \n",
    "                        attack.\"Successful dribbles Percentage\",\n",
    "                        attack.\"Big chances missed\", \n",
    "                        attack.\"Offsides\", \n",
    "                        attack.\"Dispossessed\", \n",
    "                        attack.\"Touches\",\n",
    "                        attack.\"Ranking\"\n",
    "                        '''\n",
    "                        , conn)\n",
    "\n",
    "# Close the database connection\n",
    "conn.close()\n",
    "\n",
    "df1 = cleaning_data(df1)"
   ]
  },
  {
   "cell_type": "markdown",
   "metadata": {},
   "source": [
    "### Establishing the monthly rank"
   ]
  },
  {
   "cell_type": "code",
   "execution_count": 246,
   "metadata": {},
   "outputs": [
    {
     "name": "stdout",
     "output_type": "stream",
     "text": [
      "4\n"
     ]
    },
    {
     "name": "stderr",
     "output_type": "stream",
     "text": [
      "C:\\Users\\leoau\\AppData\\Local\\Packages\\PythonSoftwareFoundation.Python.3.11_qbz5n2kfra8p0\\LocalCache\\local-packages\\Python311\\site-packages\\sklearn\\base.py:1152: DataConversionWarning: A column-vector y was passed when a 1d array was expected. Please change the shape of y to (n_samples,), for example using ravel().\n",
      "  return fit_method(estimator, *args, **kwargs)\n"
     ]
    },
    {
     "name": "stdout",
     "output_type": "stream",
     "text": [
      "Accuracy: 1.0\n",
      "5\n"
     ]
    },
    {
     "name": "stderr",
     "output_type": "stream",
     "text": [
      "C:\\Users\\leoau\\AppData\\Local\\Packages\\PythonSoftwareFoundation.Python.3.11_qbz5n2kfra8p0\\LocalCache\\local-packages\\Python311\\site-packages\\sklearn\\base.py:1152: DataConversionWarning: A column-vector y was passed when a 1d array was expected. Please change the shape of y to (n_samples,), for example using ravel().\n",
      "  return fit_method(estimator, *args, **kwargs)\n"
     ]
    },
    {
     "name": "stdout",
     "output_type": "stream",
     "text": [
      "Accuracy: 1.0\n",
      "6\n"
     ]
    },
    {
     "name": "stderr",
     "output_type": "stream",
     "text": [
      "C:\\Users\\leoau\\AppData\\Local\\Packages\\PythonSoftwareFoundation.Python.3.11_qbz5n2kfra8p0\\LocalCache\\local-packages\\Python311\\site-packages\\sklearn\\base.py:1152: DataConversionWarning: A column-vector y was passed when a 1d array was expected. Please change the shape of y to (n_samples,), for example using ravel().\n",
      "  return fit_method(estimator, *args, **kwargs)\n"
     ]
    },
    {
     "name": "stdout",
     "output_type": "stream",
     "text": [
      "Accuracy: 1.0\n",
      "7\n"
     ]
    },
    {
     "name": "stderr",
     "output_type": "stream",
     "text": [
      "C:\\Users\\leoau\\AppData\\Local\\Packages\\PythonSoftwareFoundation.Python.3.11_qbz5n2kfra8p0\\LocalCache\\local-packages\\Python311\\site-packages\\sklearn\\base.py:1152: DataConversionWarning: A column-vector y was passed when a 1d array was expected. Please change the shape of y to (n_samples,), for example using ravel().\n",
      "  return fit_method(estimator, *args, **kwargs)\n"
     ]
    },
    {
     "name": "stdout",
     "output_type": "stream",
     "text": [
      "Accuracy: 1.0\n",
      "8\n"
     ]
    },
    {
     "name": "stderr",
     "output_type": "stream",
     "text": [
      "C:\\Users\\leoau\\AppData\\Local\\Packages\\PythonSoftwareFoundation.Python.3.11_qbz5n2kfra8p0\\LocalCache\\local-packages\\Python311\\site-packages\\sklearn\\base.py:1152: DataConversionWarning: A column-vector y was passed when a 1d array was expected. Please change the shape of y to (n_samples,), for example using ravel().\n",
      "  return fit_method(estimator, *args, **kwargs)\n"
     ]
    },
    {
     "name": "stdout",
     "output_type": "stream",
     "text": [
      "Accuracy: 1.0\n",
      "9\n"
     ]
    },
    {
     "name": "stderr",
     "output_type": "stream",
     "text": [
      "C:\\Users\\leoau\\AppData\\Local\\Packages\\PythonSoftwareFoundation.Python.3.11_qbz5n2kfra8p0\\LocalCache\\local-packages\\Python311\\site-packages\\sklearn\\base.py:1152: DataConversionWarning: A column-vector y was passed when a 1d array was expected. Please change the shape of y to (n_samples,), for example using ravel().\n",
      "  return fit_method(estimator, *args, **kwargs)\n"
     ]
    },
    {
     "name": "stdout",
     "output_type": "stream",
     "text": [
      "Accuracy: 1.0\n",
      "10\n"
     ]
    },
    {
     "name": "stderr",
     "output_type": "stream",
     "text": [
      "C:\\Users\\leoau\\AppData\\Local\\Packages\\PythonSoftwareFoundation.Python.3.11_qbz5n2kfra8p0\\LocalCache\\local-packages\\Python311\\site-packages\\sklearn\\base.py:1152: DataConversionWarning: A column-vector y was passed when a 1d array was expected. Please change the shape of y to (n_samples,), for example using ravel().\n",
      "  return fit_method(estimator, *args, **kwargs)\n"
     ]
    },
    {
     "name": "stdout",
     "output_type": "stream",
     "text": [
      "Accuracy: 1.0\n"
     ]
    }
   ],
   "source": [
    "# Connect to the PostgreSQL database\n",
    "conn = psycopg2.connect(connection_string)\n",
    "cursor = conn.cursor()\n",
    "\n",
    "for desired_month in range(4, 11):\n",
    "    print(desired_month)\n",
    "    filtered_df = df1[df1['gameDate'].dt.month == desired_month]\n",
    "\n",
    "    # Define features (X) and target (y)\n",
    "    X = pd.DataFrame(filtered_df, columns=['Player Name', 'Goals', 'Total shots', \n",
    "                'Shots on target Success', 'Shots on target Total', 'Shots on target Percentage',\n",
    "                'Successful dribbles Success', 'Successful dribbles Total', 'Successful dribbles Percentage',\n",
    "                'Big chances missed', 'Offsides', 'Dispossessed', 'Touches'])\n",
    "    y = pd.DataFrame(filtered_df, columns=['Ranking'])  # Replace 'BestPlayerColumn' with your target column\n",
    "\n",
    "    results_df = random_forest_evaluation(filtered_df, X, y)\n",
    "\n",
    "    results_df['Ranking'] = range(1, len(results_df) + 1)\n",
    "\n",
    "\n",
    "    # Iterate through rows and update the database\n",
    "    for index, row in results_df.iterrows():\n",
    "        record_player = row['Player Name']\n",
    "        new_value = row['Ranking']\n",
    "\n",
    "        # Construct and execute the SQL update statement\n",
    "        update_query = f'UPDATE attack SET \"Ranking\" = ' + str(new_value) + ' WHERE \"Player Name\" = ' + \"'\" + record_player + \"'\" + ' AND EXTRACT(MONTH FROM \"gameDate\"::date) = ' + str(desired_month)\n",
    "        cursor.execute(update_query)\n",
    "\n",
    "# Commit the changes and close the database connection\n",
    "conn.commit()\n",
    "conn.close()"
   ]
  },
  {
   "cell_type": "markdown",
   "metadata": {},
   "source": [
    "### Establishing the season rank"
   ]
  },
  {
   "cell_type": "code",
   "execution_count": 247,
   "metadata": {},
   "outputs": [
    {
     "name": "stderr",
     "output_type": "stream",
     "text": [
      "C:\\Users\\leoau\\AppData\\Local\\Temp\\ipykernel_9548\\2083369144.py:11: UserWarning: pandas only supports SQLAlchemy connectable (engine/connection) or database string URI or sqlite3 DBAPI2 connection. Other DBAPI2 objects are not tested. Please consider using SQLAlchemy.\n",
      "  df1 = pd.read_sql_query('''\n",
      "C:\\Users\\leoau\\AppData\\Local\\Packages\\PythonSoftwareFoundation.Python.3.11_qbz5n2kfra8p0\\LocalCache\\local-packages\\Python311\\site-packages\\sklearn\\base.py:1152: DataConversionWarning: A column-vector y was passed when a 1d array was expected. Please change the shape of y to (n_samples,), for example using ravel().\n",
      "  return fit_method(estimator, *args, **kwargs)\n"
     ]
    },
    {
     "name": "stdout",
     "output_type": "stream",
     "text": [
      "Columns with NaN values: ['Big chances missed', 'Touches in opposition box', 'Offsides', 'Touches', 'Ranking', 'Final Ranking']\n",
      "Accuracy: 1.0\n",
      "Accuracy: 1.0\n"
     ]
    },
    {
     "name": "stderr",
     "output_type": "stream",
     "text": [
      "C:\\Users\\leoau\\AppData\\Local\\Packages\\PythonSoftwareFoundation.Python.3.11_qbz5n2kfra8p0\\LocalCache\\local-packages\\Python311\\site-packages\\sklearn\\base.py:1152: DataConversionWarning: A column-vector y was passed when a 1d array was expected. Please change the shape of y to (n_samples,), for example using ravel().\n",
      "  return fit_method(estimator, *args, **kwargs)\n",
      "C:\\Users\\leoau\\AppData\\Local\\Packages\\PythonSoftwareFoundation.Python.3.11_qbz5n2kfra8p0\\LocalCache\\local-packages\\Python311\\site-packages\\sklearn\\base.py:1152: DataConversionWarning: A column-vector y was passed when a 1d array was expected. Please change the shape of y to (n_samples,), for example using ravel().\n",
      "  return fit_method(estimator, *args, **kwargs)\n"
     ]
    },
    {
     "name": "stdout",
     "output_type": "stream",
     "text": [
      "Accuracy: 1.0\n",
      "Accuracy: 1.0\n"
     ]
    },
    {
     "name": "stderr",
     "output_type": "stream",
     "text": [
      "C:\\Users\\leoau\\AppData\\Local\\Packages\\PythonSoftwareFoundation.Python.3.11_qbz5n2kfra8p0\\LocalCache\\local-packages\\Python311\\site-packages\\sklearn\\base.py:1152: DataConversionWarning: A column-vector y was passed when a 1d array was expected. Please change the shape of y to (n_samples,), for example using ravel().\n",
      "  return fit_method(estimator, *args, **kwargs)\n",
      "C:\\Users\\leoau\\AppData\\Local\\Packages\\PythonSoftwareFoundation.Python.3.11_qbz5n2kfra8p0\\LocalCache\\local-packages\\Python311\\site-packages\\sklearn\\base.py:1152: DataConversionWarning: A column-vector y was passed when a 1d array was expected. Please change the shape of y to (n_samples,), for example using ravel().\n",
      "  return fit_method(estimator, *args, **kwargs)\n"
     ]
    },
    {
     "name": "stdout",
     "output_type": "stream",
     "text": [
      "Accuracy: 1.0\n",
      "Accuracy: 1.0\n"
     ]
    },
    {
     "name": "stderr",
     "output_type": "stream",
     "text": [
      "C:\\Users\\leoau\\AppData\\Local\\Packages\\PythonSoftwareFoundation.Python.3.11_qbz5n2kfra8p0\\LocalCache\\local-packages\\Python311\\site-packages\\sklearn\\base.py:1152: DataConversionWarning: A column-vector y was passed when a 1d array was expected. Please change the shape of y to (n_samples,), for example using ravel().\n",
      "  return fit_method(estimator, *args, **kwargs)\n"
     ]
    },
    {
     "name": "stdout",
     "output_type": "stream",
     "text": [
      "Accuracy: 1.0\n"
     ]
    },
    {
     "name": "stderr",
     "output_type": "stream",
     "text": [
      "C:\\Users\\leoau\\AppData\\Local\\Packages\\PythonSoftwareFoundation.Python.3.11_qbz5n2kfra8p0\\LocalCache\\local-packages\\Python311\\site-packages\\sklearn\\base.py:1152: DataConversionWarning: A column-vector y was passed when a 1d array was expected. Please change the shape of y to (n_samples,), for example using ravel().\n",
      "  return fit_method(estimator, *args, **kwargs)\n"
     ]
    }
   ],
   "source": [
    "# Connect to the PostgreSQL database\n",
    "conn = psycopg2.connect(connection_string)\n",
    "\n",
    "# Execute the query and fetch the results into a Pandas DataFrame\n",
    "df1 = pd.read_sql_query('''\n",
    "                        SELECT * FROM attack \n",
    "                        WHERE attack.\"Id\" in(\n",
    "                            SELECT \n",
    "                            attack.\"Id\"\n",
    "                            FROM attack \n",
    "                            WHERE attack.\"Position\" = 'Forward' or attack.\"Position\" = 'Midfielder'\n",
    "                            group by  \n",
    "                            attack.\"Id\"\n",
    "                            having sum(CAST(attack.\"Goals\" as numeric)) >= 5\n",
    "                        )\n",
    "                        '''\n",
    "                        , conn)\n",
    "df1 = cleaning_data(df1)\n",
    "\n",
    "\n",
    "# Define features (X) and target (y)\n",
    "X = pd.DataFrame(df1, columns=['Player Name', 'Goals', 'Total shots', \n",
    "            'Shots on target Success', 'Shots on target Total', 'Shots on target Percentage',\n",
    "            'Successful dribbles Success', 'Successful dribbles Total', 'Successful dribbles Percentage',\n",
    "            'Big chances missed', 'Offsides', 'Dispossessed', 'Touches'])\n",
    "y = pd.DataFrame(df1, columns=['Final Ranking'])  # Replace 'BestPlayerColumn' with your target column\n",
    "\n",
    "results_df = random_forest_evaluation(df1, X, y)\n",
    "\n",
    "results_df['Final Ranking'] = range(1, len(results_df) + 1)\n",
    "\n",
    "# Iterate through rows and update the database\n",
    "cursor = conn.cursor()\n",
    "for index, row in results_df.iterrows():\n",
    "    record_player = row['Player Name']\n",
    "    new_value = row['Final Ranking']\n",
    "\n",
    "    # Construct and execute the SQL update statement\n",
    "    update_query = f'UPDATE attack SET \"Final Ranking\" = ' + str(new_value) + ' WHERE \"Player Name\" = ' + \"'\" + record_player + \"'\" + ' AND EXTRACT(MONTH FROM \"gameDate\"::date) = ' + str(desired_month)\n",
    "    cursor.execute(update_query)\n",
    "\n",
    "# Commit the changes and close the database connection\n",
    "conn.commit()\n",
    "conn.close()"
   ]
  },
  {
   "cell_type": "markdown",
   "metadata": {},
   "source": [
    "### Creating the dataset"
   ]
  },
  {
   "cell_type": "code",
   "execution_count": 248,
   "metadata": {},
   "outputs": [
    {
     "name": "stdout",
     "output_type": "stream",
     "text": [
      "Columns with NaN values: ['Big chances missed', 'Touches in opposition box', 'Offsides', 'Touches', 'Ranking', 'Final Ranking']\n"
     ]
    },
    {
     "name": "stderr",
     "output_type": "stream",
     "text": [
      "C:\\Users\\leoau\\AppData\\Local\\Temp\\ipykernel_9548\\2518040848.py:9: UserWarning: pandas only supports SQLAlchemy connectable (engine/connection) or database string URI or sqlite3 DBAPI2 connection. Other DBAPI2 objects are not tested. Please consider using SQLAlchemy.\n",
      "  df1 = pd.read_sql_query(\"SELECT * FROM attack\", conn)\n"
     ]
    }
   ],
   "source": [
    "# Connect to the PostgreSQL database\n",
    "conn = psycopg2.connect(connection_string)\n",
    "\n",
    "# Execute the query and fetch the results into a Pandas DataFrame\n",
    "df1 = pd.read_sql_query(\"SELECT * FROM attack\", conn)\n",
    "\n",
    "# Close the database connection\n",
    "conn.close()\n",
    "\n",
    "df1 = cleaning_data(df1)\n",
    "\n",
    "df1.to_csv(r'csv_files/dataset.csv', index=False)"
   ]
  }
 ],
 "metadata": {
  "kernelspec": {
   "display_name": "Python 3",
   "language": "python",
   "name": "python3"
  },
  "language_info": {
   "codemirror_mode": {
    "name": "ipython",
    "version": 3
   },
   "file_extension": ".py",
   "mimetype": "text/x-python",
   "name": "python",
   "nbconvert_exporter": "python",
   "pygments_lexer": "ipython3",
   "version": "3.11.7"
  }
 },
 "nbformat": 4,
 "nbformat_minor": 2
}
